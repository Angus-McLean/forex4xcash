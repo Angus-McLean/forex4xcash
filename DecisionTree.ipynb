{
 "cells": [
  {
   "cell_type": "markdown",
   "metadata": {},
   "source": [
    "# Decision Tree Regressor"
   ]
  },
  {
   "cell_type": "markdown",
   "metadata": {},
   "source": [
    "## Imports"
   ]
  },
  {
   "cell_type": "code",
   "execution_count": 49,
   "metadata": {},
   "outputs": [],
   "source": [
    "from ta import *\n",
    "import pandas, numpy as np\n",
    "import matplotlib.pyplot as plt"
   ]
  },
  {
   "cell_type": "code",
   "execution_count": 7,
   "metadata": {},
   "outputs": [],
   "source": [
    "%matplotlib inline"
   ]
  },
  {
   "cell_type": "code",
   "execution_count": 8,
   "metadata": {},
   "outputs": [],
   "source": [
    "from pylab import rcParams\n",
    "rcParams['figure.figsize'] = 15, 10"
   ]
  },
  {
   "cell_type": "code",
   "execution_count": 9,
   "metadata": {},
   "outputs": [],
   "source": [
    "## Read Data\n",
    "def readDEX(filepath):\n",
    "    rawData = pandas.read_csv(filepath).replace('.', np.nan).fillna(method='ffill')\n",
    "    # TODO : Parse dates\n",
    "    rawData.VALUE = rawData.VALUE.astype(float)\n",
    "    return rawData"
   ]
  },
  {
   "cell_type": "code",
   "execution_count": 11,
   "metadata": {},
   "outputs": [],
   "source": [
    "usCa = readDEX('data/DEXCAUS.csv')"
   ]
  },
  {
   "cell_type": "markdown",
   "metadata": {},
   "source": [
    "### Output Column"
   ]
  },
  {
   "cell_type": "code",
   "execution_count": 276,
   "metadata": {
    "scrolled": true
   },
   "outputs": [
    {
     "data": {
      "text/plain": [
       "0         NaN\n",
       "1   -0.069245\n",
       "2    0.039596\n",
       "3    0.415595\n",
       "4    0.059125\n",
       "5    0.049242\n",
       "6   -0.285461\n",
       "7   -0.078973\n",
       "8    0.108674\n",
       "9    0.019737\n",
       "Name: d_ret, dtype: float64"
      ]
     },
     "execution_count": 276,
     "metadata": {},
     "output_type": "execute_result"
    }
   ],
   "source": [
    "others.daily_return(usCa['VALUE'])[:10]"
   ]
  },
  {
   "cell_type": "markdown",
   "metadata": {},
   "source": [
    "# Building Strategies"
   ]
  },
  {
   "cell_type": "code",
   "execution_count": 277,
   "metadata": {
    "scrolled": true
   },
   "outputs": [
    {
     "data": {
      "text/html": [
       "<div>\n",
       "<style scoped>\n",
       "    .dataframe tbody tr th:only-of-type {\n",
       "        vertical-align: middle;\n",
       "    }\n",
       "\n",
       "    .dataframe tbody tr th {\n",
       "        vertical-align: top;\n",
       "    }\n",
       "\n",
       "    .dataframe thead th {\n",
       "        text-align: right;\n",
       "    }\n",
       "</style>\n",
       "<table border=\"1\" class=\"dataframe\">\n",
       "  <thead>\n",
       "    <tr style=\"text-align: right;\">\n",
       "      <th></th>\n",
       "      <th>DATE</th>\n",
       "      <th>VALUE</th>\n",
       "      <th>dpo</th>\n",
       "      <th>macd_signal</th>\n",
       "      <th>return</th>\n",
       "      <th>tsi</th>\n",
       "      <th>rsi</th>\n",
       "      <th>gained</th>\n",
       "      <th>trix</th>\n",
       "      <th>macd_diff</th>\n",
       "      <th>macd</th>\n",
       "      <th>hband</th>\n",
       "      <th>lband</th>\n",
       "      <th>donchain</th>\n",
       "      <th>hdonchain</th>\n",
       "      <th>ldonchain</th>\n",
       "    </tr>\n",
       "  </thead>\n",
       "  <tbody>\n",
       "    <tr>\n",
       "      <th>0</th>\n",
       "      <td>1971-01-04</td>\n",
       "      <td>1.0109</td>\n",
       "      <td>NaN</td>\n",
       "      <td>NaN</td>\n",
       "      <td>NaN</td>\n",
       "      <td>NaN</td>\n",
       "      <td>NaN</td>\n",
       "      <td>False</td>\n",
       "      <td>NaN</td>\n",
       "      <td>NaN</td>\n",
       "      <td>NaN</td>\n",
       "      <td>NaN</td>\n",
       "      <td>NaN</td>\n",
       "      <td>0.0</td>\n",
       "      <td>NaN</td>\n",
       "      <td>NaN</td>\n",
       "    </tr>\n",
       "    <tr>\n",
       "      <th>1</th>\n",
       "      <td>1971-01-05</td>\n",
       "      <td>1.0102</td>\n",
       "      <td>NaN</td>\n",
       "      <td>NaN</td>\n",
       "      <td>-0.069245</td>\n",
       "      <td>-100.000000</td>\n",
       "      <td>NaN</td>\n",
       "      <td>False</td>\n",
       "      <td>NaN</td>\n",
       "      <td>NaN</td>\n",
       "      <td>NaN</td>\n",
       "      <td>NaN</td>\n",
       "      <td>NaN</td>\n",
       "      <td>0.0</td>\n",
       "      <td>NaN</td>\n",
       "      <td>NaN</td>\n",
       "    </tr>\n",
       "    <tr>\n",
       "      <th>2</th>\n",
       "      <td>1971-01-06</td>\n",
       "      <td>1.0106</td>\n",
       "      <td>NaN</td>\n",
       "      <td>NaN</td>\n",
       "      <td>0.039596</td>\n",
       "      <td>-65.929566</td>\n",
       "      <td>NaN</td>\n",
       "      <td>True</td>\n",
       "      <td>NaN</td>\n",
       "      <td>NaN</td>\n",
       "      <td>NaN</td>\n",
       "      <td>NaN</td>\n",
       "      <td>NaN</td>\n",
       "      <td>0.0</td>\n",
       "      <td>NaN</td>\n",
       "      <td>NaN</td>\n",
       "    </tr>\n",
       "    <tr>\n",
       "      <th>3</th>\n",
       "      <td>1971-01-07</td>\n",
       "      <td>1.0148</td>\n",
       "      <td>NaN</td>\n",
       "      <td>NaN</td>\n",
       "      <td>0.415595</td>\n",
       "      <td>21.592445</td>\n",
       "      <td>NaN</td>\n",
       "      <td>True</td>\n",
       "      <td>NaN</td>\n",
       "      <td>NaN</td>\n",
       "      <td>NaN</td>\n",
       "      <td>NaN</td>\n",
       "      <td>NaN</td>\n",
       "      <td>0.0</td>\n",
       "      <td>NaN</td>\n",
       "      <td>NaN</td>\n",
       "    </tr>\n",
       "    <tr>\n",
       "      <th>4</th>\n",
       "      <td>1971-01-08</td>\n",
       "      <td>1.0154</td>\n",
       "      <td>NaN</td>\n",
       "      <td>NaN</td>\n",
       "      <td>0.059125</td>\n",
       "      <td>41.553943</td>\n",
       "      <td>NaN</td>\n",
       "      <td>True</td>\n",
       "      <td>NaN</td>\n",
       "      <td>NaN</td>\n",
       "      <td>NaN</td>\n",
       "      <td>NaN</td>\n",
       "      <td>NaN</td>\n",
       "      <td>0.0</td>\n",
       "      <td>NaN</td>\n",
       "      <td>NaN</td>\n",
       "    </tr>\n",
       "    <tr>\n",
       "      <th>5</th>\n",
       "      <td>1971-01-11</td>\n",
       "      <td>1.0159</td>\n",
       "      <td>NaN</td>\n",
       "      <td>NaN</td>\n",
       "      <td>0.049242</td>\n",
       "      <td>50.969532</td>\n",
       "      <td>NaN</td>\n",
       "      <td>True</td>\n",
       "      <td>NaN</td>\n",
       "      <td>NaN</td>\n",
       "      <td>NaN</td>\n",
       "      <td>NaN</td>\n",
       "      <td>NaN</td>\n",
       "      <td>0.0</td>\n",
       "      <td>NaN</td>\n",
       "      <td>NaN</td>\n",
       "    </tr>\n",
       "    <tr>\n",
       "      <th>6</th>\n",
       "      <td>1971-01-12</td>\n",
       "      <td>1.0130</td>\n",
       "      <td>NaN</td>\n",
       "      <td>NaN</td>\n",
       "      <td>-0.285461</td>\n",
       "      <td>43.100626</td>\n",
       "      <td>NaN</td>\n",
       "      <td>False</td>\n",
       "      <td>NaN</td>\n",
       "      <td>NaN</td>\n",
       "      <td>NaN</td>\n",
       "      <td>NaN</td>\n",
       "      <td>NaN</td>\n",
       "      <td>0.0</td>\n",
       "      <td>NaN</td>\n",
       "      <td>NaN</td>\n",
       "    </tr>\n",
       "    <tr>\n",
       "      <th>7</th>\n",
       "      <td>1971-01-13</td>\n",
       "      <td>1.0122</td>\n",
       "      <td>NaN</td>\n",
       "      <td>NaN</td>\n",
       "      <td>-0.078973</td>\n",
       "      <td>36.308132</td>\n",
       "      <td>NaN</td>\n",
       "      <td>False</td>\n",
       "      <td>NaN</td>\n",
       "      <td>NaN</td>\n",
       "      <td>NaN</td>\n",
       "      <td>NaN</td>\n",
       "      <td>NaN</td>\n",
       "      <td>0.0</td>\n",
       "      <td>NaN</td>\n",
       "      <td>NaN</td>\n",
       "    </tr>\n",
       "    <tr>\n",
       "      <th>8</th>\n",
       "      <td>1971-01-14</td>\n",
       "      <td>1.0133</td>\n",
       "      <td>NaN</td>\n",
       "      <td>NaN</td>\n",
       "      <td>0.108674</td>\n",
       "      <td>33.336623</td>\n",
       "      <td>NaN</td>\n",
       "      <td>True</td>\n",
       "      <td>NaN</td>\n",
       "      <td>NaN</td>\n",
       "      <td>NaN</td>\n",
       "      <td>NaN</td>\n",
       "      <td>NaN</td>\n",
       "      <td>0.0</td>\n",
       "      <td>NaN</td>\n",
       "      <td>NaN</td>\n",
       "    </tr>\n",
       "    <tr>\n",
       "      <th>9</th>\n",
       "      <td>1971-01-15</td>\n",
       "      <td>1.0135</td>\n",
       "      <td>NaN</td>\n",
       "      <td>NaN</td>\n",
       "      <td>0.019737</td>\n",
       "      <td>31.539850</td>\n",
       "      <td>NaN</td>\n",
       "      <td>True</td>\n",
       "      <td>NaN</td>\n",
       "      <td>NaN</td>\n",
       "      <td>NaN</td>\n",
       "      <td>NaN</td>\n",
       "      <td>NaN</td>\n",
       "      <td>0.0</td>\n",
       "      <td>NaN</td>\n",
       "      <td>NaN</td>\n",
       "    </tr>\n",
       "  </tbody>\n",
       "</table>\n",
       "</div>"
      ],
      "text/plain": [
       "         DATE   VALUE  dpo  macd_signal    return         tsi  rsi  gained  \\\n",
       "0  1971-01-04  1.0109  NaN          NaN       NaN         NaN  NaN   False   \n",
       "1  1971-01-05  1.0102  NaN          NaN -0.069245 -100.000000  NaN   False   \n",
       "2  1971-01-06  1.0106  NaN          NaN  0.039596  -65.929566  NaN    True   \n",
       "3  1971-01-07  1.0148  NaN          NaN  0.415595   21.592445  NaN    True   \n",
       "4  1971-01-08  1.0154  NaN          NaN  0.059125   41.553943  NaN    True   \n",
       "5  1971-01-11  1.0159  NaN          NaN  0.049242   50.969532  NaN    True   \n",
       "6  1971-01-12  1.0130  NaN          NaN -0.285461   43.100626  NaN   False   \n",
       "7  1971-01-13  1.0122  NaN          NaN -0.078973   36.308132  NaN   False   \n",
       "8  1971-01-14  1.0133  NaN          NaN  0.108674   33.336623  NaN    True   \n",
       "9  1971-01-15  1.0135  NaN          NaN  0.019737   31.539850  NaN    True   \n",
       "\n",
       "   trix  macd_diff  macd  hband  lband  donchain  hdonchain  ldonchain  \n",
       "0   NaN        NaN   NaN    NaN    NaN       0.0        NaN        NaN  \n",
       "1   NaN        NaN   NaN    NaN    NaN       0.0        NaN        NaN  \n",
       "2   NaN        NaN   NaN    NaN    NaN       0.0        NaN        NaN  \n",
       "3   NaN        NaN   NaN    NaN    NaN       0.0        NaN        NaN  \n",
       "4   NaN        NaN   NaN    NaN    NaN       0.0        NaN        NaN  \n",
       "5   NaN        NaN   NaN    NaN    NaN       0.0        NaN        NaN  \n",
       "6   NaN        NaN   NaN    NaN    NaN       0.0        NaN        NaN  \n",
       "7   NaN        NaN   NaN    NaN    NaN       0.0        NaN        NaN  \n",
       "8   NaN        NaN   NaN    NaN    NaN       0.0        NaN        NaN  \n",
       "9   NaN        NaN   NaN    NaN    NaN       0.0        NaN        NaN  "
      ]
     },
     "execution_count": 277,
     "metadata": {},
     "output_type": "execute_result"
    }
   ],
   "source": [
    "usCa['dpo'] = trend.dpo(usCa['VALUE'])\n",
    "usCa['macd'] = trend.macd(usCa['VALUE'])\n",
    "usCa['macd_signal'] = trend.macd_signal(usCa['VALUE'])\n",
    "usCa['macd_diff'] = trend.macd_diff(usCa['VALUE'])\n",
    "usCa['tsi'] = momentum.tsi(usCa['VALUE'])\n",
    "usCa['rsi'] = momentum.rsi(usCa['VALUE'])\n",
    "usCa['trix'] = trend.trix(usCa['VALUE'])\n",
    "usCa['hband'] = volatility.bollinger_hband(usCa['VALUE'])\n",
    "usCa['lband'] = volatility.bollinger_lband(usCa['VALUE'])\n",
    "\n",
    "# Output column\n",
    "usCa['return'] = others.daily_return(usCa['VALUE'])\n",
    "usCa['gained'] = usCa['return'] > 0\n",
    "usCa[:10]"
   ]
  },
  {
   "cell_type": "code",
   "execution_count": 79,
   "metadata": {},
   "outputs": [],
   "source": [
    "from sklearn.datasets import load_iris\n",
    "from sklearn.model_selection import cross_val_score\n",
    "from sklearn.tree import DecisionTreeClassifier, DecisionTreeRegressor"
   ]
  },
  {
   "cell_type": "code",
   "execution_count": 232,
   "metadata": {
    "scrolled": true
   },
   "outputs": [],
   "source": [
    "inputCols = ['VALUE', 'dpo', 'macd', 'macd_signal', 'macd_diff', 'tsi', 'rsi', 'trix', 'hband', 'lband']\n",
    "outputCols = ['return']\n",
    "\n",
    "## Slice at 25 because that's the last index of a NaN value\n",
    "## Shift outputs by 1 day forward\n",
    "offset = 25\n",
    "inputs = usCa[inputCols][offset:-1]\n",
    "outputs = usCa[outputCols][offset+1:]"
   ]
  },
  {
   "cell_type": "code",
   "execution_count": 145,
   "metadata": {},
   "outputs": [
    {
     "data": {
      "text/plain": [
       "array([-10.84579612,  -3.03865406,  -2.19333913,  -1.84816799,\n",
       "        -1.5441984 ,  -1.75119023,  -4.31991314,  -0.7252527 ,\n",
       "        -1.22998258,  -1.07868335])"
      ]
     },
     "execution_count": 145,
     "metadata": {},
     "output_type": "execute_result"
    }
   ],
   "source": [
    "clf = DecisionTreeRegressor(random_state=0)\n",
    "cross_val_score(clf, inputs, outputs, cv=10)"
   ]
  },
  {
   "cell_type": "code",
   "execution_count": 157,
   "metadata": {},
   "outputs": [
    {
     "data": {
      "text/plain": [
       "DecisionTreeRegressor(criterion='mse', max_depth=None, max_features=None,\n",
       "           max_leaf_nodes=None, min_impurity_decrease=0.0,\n",
       "           min_impurity_split=None, min_samples_leaf=1,\n",
       "           min_samples_split=2, min_weight_fraction_leaf=0.0,\n",
       "           presort=False, random_state=0, splitter='best')"
      ]
     },
     "execution_count": 157,
     "metadata": {},
     "output_type": "execute_result"
    }
   ],
   "source": [
    "clf.fit(inputs, outputs)"
   ]
  },
  {
   "cell_type": "code",
   "execution_count": 158,
   "metadata": {},
   "outputs": [
    {
     "data": {
      "text/plain": [
       "[('dpo', 0.1749766178874021),\n",
       " ('macd_diff', 0.12667752368642093),\n",
       " ('rsi', 0.11984081958107358),\n",
       " ('tsi', 0.11015869022268132),\n",
       " ('trix', 0.10555126314724007),\n",
       " ('macd', 0.09309440803367552),\n",
       " ('macd_signal', 0.08299413503953483),\n",
       " ('hband', 0.07000429894812481),\n",
       " ('lband', 0.06513205099744934),\n",
       " ('VALUE', 0.05157019245639747)]"
      ]
     },
     "execution_count": 158,
     "metadata": {},
     "output_type": "execute_result"
    }
   ],
   "source": [
    "# Feature importances\n",
    "srt = sorted(list(zip(inputCols, clf.feature_importances_)), key=lambda x: x[1])\n",
    "srt.reverse()\n",
    "srt"
   ]
  },
  {
   "cell_type": "markdown",
   "metadata": {},
   "source": [
    "## Make Trades"
   ]
  },
  {
   "cell_type": "code",
   "execution_count": 113,
   "metadata": {},
   "outputs": [],
   "source": [
    "predictions = clf.predict(inputs)"
   ]
  },
  {
   "cell_type": "code",
   "execution_count": 114,
   "metadata": {},
   "outputs": [
    {
     "data": {
      "text/plain": [
       "count    12409.000000\n",
       "mean         0.002902\n",
       "std          0.402447\n",
       "min         -4.945140\n",
       "25%         -0.165180\n",
       "50%          0.000000\n",
       "75%          0.164730\n",
       "max          3.880356\n",
       "dtype: float64"
      ]
     },
     "execution_count": 114,
     "metadata": {},
     "output_type": "execute_result"
    }
   ],
   "source": [
    "pd.Series(predictions).describe()"
   ]
  },
  {
   "cell_type": "code",
   "execution_count": 115,
   "metadata": {},
   "outputs": [],
   "source": [
    "# Place trades on top 75% and sell when falls below 50%\n",
    "buyThreshold = 0.164730\n",
    "sellThreshold = 0.00\n",
    "buys = predictions > buyThreshold\n",
    "sells = predictions < sellThreshold"
   ]
  },
  {
   "cell_type": "code",
   "execution_count": 117,
   "metadata": {},
   "outputs": [
    {
     "data": {
      "text/plain": [
       "array([False, False, False, ..., False,  True,  True])"
      ]
     },
     "execution_count": 117,
     "metadata": {},
     "output_type": "execute_result"
    }
   ],
   "source": [
    "buys"
   ]
  },
  {
   "cell_type": "code",
   "execution_count": 118,
   "metadata": {},
   "outputs": [],
   "source": [
    "buyInds = [i for i, x in enumerate(buys) if x == True]\n",
    "sellInds = [i for i, x in enumerate(sells) if x == True]"
   ]
  },
  {
   "cell_type": "code",
   "execution_count": 135,
   "metadata": {},
   "outputs": [],
   "source": [
    "# For each buy position find the next sell position\n",
    "nextSellInd = []\n",
    "tmp = np.array(sellInds)\n",
    "for ind in buyInds:\n",
    "    vals = np.where(tmp > ind)[0]\n",
    "    if len(vals):\n",
    "        indOfNextSell = tmp[vals[0]]\n",
    "        nextSellInd.append(indOfNextSell)"
   ]
  },
  {
   "cell_type": "code",
   "execution_count": 278,
   "metadata": {},
   "outputs": [
    {
     "data": {
      "text/plain": [
       "[(11, 12),\n",
       " (80, 83),\n",
       " (82, 83),\n",
       " (85, 89),\n",
       " (87, 89),\n",
       " (94, 96),\n",
       " (119, 122),\n",
       " (120, 122),\n",
       " (128, 129),\n",
       " (130, 132)]"
      ]
     },
     "execution_count": 278,
     "metadata": {},
     "output_type": "execute_result"
    }
   ],
   "source": [
    "positions = list(zip(buyInds, nextSellInd))\n",
    "positions[:10]"
   ]
  },
  {
   "cell_type": "code",
   "execution_count": 292,
   "metadata": {},
   "outputs": [
    {
     "data": {
      "text/plain": [
       "count    3101.000000\n",
       "mean        2.091583\n",
       "std         1.458677\n",
       "min         1.000000\n",
       "25%         1.000000\n",
       "50%         2.000000\n",
       "75%         3.000000\n",
       "max        11.000000\n",
       "dtype: float64"
      ]
     },
     "execution_count": 292,
     "metadata": {},
     "output_type": "execute_result"
    }
   ],
   "source": [
    "pd.Series(list(map(lambda a : a[1] - a[0], positions))).describe()"
   ]
  },
  {
   "cell_type": "code",
   "execution_count": 262,
   "metadata": {},
   "outputs": [],
   "source": [
    "enters = [a[0]+offset for a in positions]\n",
    "exits = [a[1]+offset for a in positions]"
   ]
  },
  {
   "cell_type": "code",
   "execution_count": 279,
   "metadata": {},
   "outputs": [
    {
     "data": {
      "text/html": [
       "<div>\n",
       "<style scoped>\n",
       "    .dataframe tbody tr th:only-of-type {\n",
       "        vertical-align: middle;\n",
       "    }\n",
       "\n",
       "    .dataframe tbody tr th {\n",
       "        vertical-align: top;\n",
       "    }\n",
       "\n",
       "    .dataframe thead th {\n",
       "        text-align: right;\n",
       "    }\n",
       "</style>\n",
       "<table border=\"1\" class=\"dataframe\">\n",
       "  <thead>\n",
       "    <tr style=\"text-align: right;\">\n",
       "      <th></th>\n",
       "      <th>DATE</th>\n",
       "      <th>VALUE</th>\n",
       "      <th>dpo</th>\n",
       "      <th>macd_signal</th>\n",
       "      <th>return</th>\n",
       "      <th>tsi</th>\n",
       "      <th>rsi</th>\n",
       "      <th>gained</th>\n",
       "      <th>trix</th>\n",
       "      <th>macd_diff</th>\n",
       "      <th>macd</th>\n",
       "      <th>hband</th>\n",
       "      <th>lband</th>\n",
       "      <th>donchain</th>\n",
       "      <th>hdonchain</th>\n",
       "      <th>ldonchain</th>\n",
       "    </tr>\n",
       "  </thead>\n",
       "  <tbody>\n",
       "    <tr>\n",
       "      <th>36</th>\n",
       "      <td>1971-02-23</td>\n",
       "      <td>1.0035</td>\n",
       "      <td>0.000420</td>\n",
       "      <td>-0.001518</td>\n",
       "      <td>-0.079657</td>\n",
       "      <td>-14.261394</td>\n",
       "      <td>13.388719</td>\n",
       "      <td>False</td>\n",
       "      <td>-0.015595</td>\n",
       "      <td>-0.000223</td>\n",
       "      <td>-0.001741</td>\n",
       "      <td>1.010938</td>\n",
       "      <td>1.004822</td>\n",
       "      <td>0.0</td>\n",
       "      <td>1.0101</td>\n",
       "      <td>1.0035</td>\n",
       "    </tr>\n",
       "    <tr>\n",
       "      <th>105</th>\n",
       "      <td>1971-05-31</td>\n",
       "      <td>1.0101</td>\n",
       "      <td>0.000120</td>\n",
       "      <td>0.000368</td>\n",
       "      <td>0.000000</td>\n",
       "      <td>5.958453</td>\n",
       "      <td>69.951436</td>\n",
       "      <td>False</td>\n",
       "      <td>0.005377</td>\n",
       "      <td>0.000081</td>\n",
       "      <td>0.000449</td>\n",
       "      <td>1.010426</td>\n",
       "      <td>1.007134</td>\n",
       "      <td>1.0</td>\n",
       "      <td>1.0101</td>\n",
       "      <td>1.0069</td>\n",
       "    </tr>\n",
       "    <tr>\n",
       "      <th>107</th>\n",
       "      <td>1971-06-02</td>\n",
       "      <td>1.0134</td>\n",
       "      <td>-0.000360</td>\n",
       "      <td>0.000529</td>\n",
       "      <td>0.079005</td>\n",
       "      <td>9.836610</td>\n",
       "      <td>87.879670</td>\n",
       "      <td>True</td>\n",
       "      <td>0.007388</td>\n",
       "      <td>0.000393</td>\n",
       "      <td>0.000922</td>\n",
       "      <td>1.012242</td>\n",
       "      <td>1.006278</td>\n",
       "      <td>1.0</td>\n",
       "      <td>1.0134</td>\n",
       "      <td>1.0069</td>\n",
       "    </tr>\n",
       "    <tr>\n",
       "      <th>110</th>\n",
       "      <td>1971-06-07</td>\n",
       "      <td>1.0161</td>\n",
       "      <td>-0.001525</td>\n",
       "      <td>0.001163</td>\n",
       "      <td>-0.127777</td>\n",
       "      <td>18.614899</td>\n",
       "      <td>71.615636</td>\n",
       "      <td>False</td>\n",
       "      <td>0.015684</td>\n",
       "      <td>0.000846</td>\n",
       "      <td>0.002009</td>\n",
       "      <td>1.017016</td>\n",
       "      <td>1.004434</td>\n",
       "      <td>0.0</td>\n",
       "      <td>1.0185</td>\n",
       "      <td>1.0083</td>\n",
       "    </tr>\n",
       "    <tr>\n",
       "      <th>112</th>\n",
       "      <td>1971-06-09</td>\n",
       "      <td>1.0186</td>\n",
       "      <td>-0.002615</td>\n",
       "      <td>0.001597</td>\n",
       "      <td>0.068769</td>\n",
       "      <td>22.820015</td>\n",
       "      <td>78.542442</td>\n",
       "      <td>True</td>\n",
       "      <td>0.021778</td>\n",
       "      <td>0.000869</td>\n",
       "      <td>0.002466</td>\n",
       "      <td>1.019263</td>\n",
       "      <td>1.004167</td>\n",
       "      <td>1.0</td>\n",
       "      <td>1.0186</td>\n",
       "      <td>1.0086</td>\n",
       "    </tr>\n",
       "    <tr>\n",
       "      <th>119</th>\n",
       "      <td>1971-06-18</td>\n",
       "      <td>1.0225</td>\n",
       "      <td>0.001620</td>\n",
       "      <td>0.003384</td>\n",
       "      <td>-0.165983</td>\n",
       "      <td>36.727359</td>\n",
       "      <td>64.368499</td>\n",
       "      <td>False</td>\n",
       "      <td>0.048019</td>\n",
       "      <td>0.000558</td>\n",
       "      <td>0.003941</td>\n",
       "      <td>1.029204</td>\n",
       "      <td>1.004556</td>\n",
       "      <td>0.0</td>\n",
       "      <td>1.0248</td>\n",
       "      <td>1.0086</td>\n",
       "    </tr>\n",
       "    <tr>\n",
       "      <th>144</th>\n",
       "      <td>1971-07-23</td>\n",
       "      <td>1.0151</td>\n",
       "      <td>0.001045</td>\n",
       "      <td>0.000688</td>\n",
       "      <td>-0.235872</td>\n",
       "      <td>21.746195</td>\n",
       "      <td>7.570305</td>\n",
       "      <td>False</td>\n",
       "      <td>0.010344</td>\n",
       "      <td>-0.001099</td>\n",
       "      <td>-0.000411</td>\n",
       "      <td>1.026294</td>\n",
       "      <td>1.017616</td>\n",
       "      <td>0.0</td>\n",
       "      <td>1.0235</td>\n",
       "      <td>1.0151</td>\n",
       "    </tr>\n",
       "    <tr>\n",
       "      <th>145</th>\n",
       "      <td>1971-07-26</td>\n",
       "      <td>1.0176</td>\n",
       "      <td>0.001270</td>\n",
       "      <td>0.000430</td>\n",
       "      <td>0.246281</td>\n",
       "      <td>19.543567</td>\n",
       "      <td>33.183783</td>\n",
       "      <td>True</td>\n",
       "      <td>0.006666</td>\n",
       "      <td>-0.001032</td>\n",
       "      <td>-0.000603</td>\n",
       "      <td>1.026484</td>\n",
       "      <td>1.016976</td>\n",
       "      <td>0.0</td>\n",
       "      <td>1.0235</td>\n",
       "      <td>1.0151</td>\n",
       "    </tr>\n",
       "    <tr>\n",
       "      <th>153</th>\n",
       "      <td>1971-08-05</td>\n",
       "      <td>1.0168</td>\n",
       "      <td>-0.000330</td>\n",
       "      <td>-0.000331</td>\n",
       "      <td>-0.166912</td>\n",
       "      <td>10.241826</td>\n",
       "      <td>33.692712</td>\n",
       "      <td>False</td>\n",
       "      <td>-0.006067</td>\n",
       "      <td>-0.000372</td>\n",
       "      <td>-0.000703</td>\n",
       "      <td>1.025163</td>\n",
       "      <td>1.015497</td>\n",
       "      <td>0.0</td>\n",
       "      <td>1.0231</td>\n",
       "      <td>1.0151</td>\n",
       "    </tr>\n",
       "    <tr>\n",
       "      <th>155</th>\n",
       "      <td>1971-08-09</td>\n",
       "      <td>1.0063</td>\n",
       "      <td>-0.004170</td>\n",
       "      <td>-0.000660</td>\n",
       "      <td>-1.207540</td>\n",
       "      <td>4.443544</td>\n",
       "      <td>18.834869</td>\n",
       "      <td>False</td>\n",
       "      <td>-0.010482</td>\n",
       "      <td>-0.001019</td>\n",
       "      <td>-0.001679</td>\n",
       "      <td>1.026858</td>\n",
       "      <td>1.011682</td>\n",
       "      <td>0.0</td>\n",
       "      <td>1.0231</td>\n",
       "      <td>1.0063</td>\n",
       "    </tr>\n",
       "  </tbody>\n",
       "</table>\n",
       "</div>"
      ],
      "text/plain": [
       "           DATE   VALUE       dpo  macd_signal    return        tsi  \\\n",
       "36   1971-02-23  1.0035  0.000420    -0.001518 -0.079657 -14.261394   \n",
       "105  1971-05-31  1.0101  0.000120     0.000368  0.000000   5.958453   \n",
       "107  1971-06-02  1.0134 -0.000360     0.000529  0.079005   9.836610   \n",
       "110  1971-06-07  1.0161 -0.001525     0.001163 -0.127777  18.614899   \n",
       "112  1971-06-09  1.0186 -0.002615     0.001597  0.068769  22.820015   \n",
       "119  1971-06-18  1.0225  0.001620     0.003384 -0.165983  36.727359   \n",
       "144  1971-07-23  1.0151  0.001045     0.000688 -0.235872  21.746195   \n",
       "145  1971-07-26  1.0176  0.001270     0.000430  0.246281  19.543567   \n",
       "153  1971-08-05  1.0168 -0.000330    -0.000331 -0.166912  10.241826   \n",
       "155  1971-08-09  1.0063 -0.004170    -0.000660 -1.207540   4.443544   \n",
       "\n",
       "           rsi  gained      trix  macd_diff      macd     hband     lband  \\\n",
       "36   13.388719   False -0.015595  -0.000223 -0.001741  1.010938  1.004822   \n",
       "105  69.951436   False  0.005377   0.000081  0.000449  1.010426  1.007134   \n",
       "107  87.879670    True  0.007388   0.000393  0.000922  1.012242  1.006278   \n",
       "110  71.615636   False  0.015684   0.000846  0.002009  1.017016  1.004434   \n",
       "112  78.542442    True  0.021778   0.000869  0.002466  1.019263  1.004167   \n",
       "119  64.368499   False  0.048019   0.000558  0.003941  1.029204  1.004556   \n",
       "144   7.570305   False  0.010344  -0.001099 -0.000411  1.026294  1.017616   \n",
       "145  33.183783    True  0.006666  -0.001032 -0.000603  1.026484  1.016976   \n",
       "153  33.692712   False -0.006067  -0.000372 -0.000703  1.025163  1.015497   \n",
       "155  18.834869   False -0.010482  -0.001019 -0.001679  1.026858  1.011682   \n",
       "\n",
       "     donchain  hdonchain  ldonchain  \n",
       "36        0.0     1.0101     1.0035  \n",
       "105       1.0     1.0101     1.0069  \n",
       "107       1.0     1.0134     1.0069  \n",
       "110       0.0     1.0185     1.0083  \n",
       "112       1.0     1.0186     1.0086  \n",
       "119       0.0     1.0248     1.0086  \n",
       "144       0.0     1.0235     1.0151  \n",
       "145       0.0     1.0235     1.0151  \n",
       "153       0.0     1.0231     1.0151  \n",
       "155       0.0     1.0231     1.0063  "
      ]
     },
     "execution_count": 279,
     "metadata": {},
     "output_type": "execute_result"
    }
   ],
   "source": [
    "# Positions of buys\n",
    "usCa.loc[enters][:10]"
   ]
  },
  {
   "cell_type": "code",
   "execution_count": 280,
   "metadata": {},
   "outputs": [
    {
     "data": {
      "text/html": [
       "<div>\n",
       "<style scoped>\n",
       "    .dataframe tbody tr th:only-of-type {\n",
       "        vertical-align: middle;\n",
       "    }\n",
       "\n",
       "    .dataframe tbody tr th {\n",
       "        vertical-align: top;\n",
       "    }\n",
       "\n",
       "    .dataframe thead th {\n",
       "        text-align: right;\n",
       "    }\n",
       "</style>\n",
       "<table border=\"1\" class=\"dataframe\">\n",
       "  <thead>\n",
       "    <tr style=\"text-align: right;\">\n",
       "      <th></th>\n",
       "      <th>DATE</th>\n",
       "      <th>VALUE</th>\n",
       "      <th>dpo</th>\n",
       "      <th>macd_signal</th>\n",
       "      <th>return</th>\n",
       "      <th>tsi</th>\n",
       "      <th>rsi</th>\n",
       "      <th>gained</th>\n",
       "      <th>trix</th>\n",
       "      <th>macd_diff</th>\n",
       "      <th>macd</th>\n",
       "      <th>hband</th>\n",
       "      <th>lband</th>\n",
       "      <th>donchain</th>\n",
       "      <th>hdonchain</th>\n",
       "      <th>ldonchain</th>\n",
       "    </tr>\n",
       "  </thead>\n",
       "  <tbody>\n",
       "    <tr>\n",
       "      <th>37</th>\n",
       "      <td>1971-02-24</td>\n",
       "      <td>1.0075</td>\n",
       "      <td>0.000550</td>\n",
       "      <td>-0.001529</td>\n",
       "      <td>0.398605</td>\n",
       "      <td>-13.994300</td>\n",
       "      <td>52.751027</td>\n",
       "      <td>True</td>\n",
       "      <td>-0.016201</td>\n",
       "      <td>-0.000044</td>\n",
       "      <td>-0.001572</td>\n",
       "      <td>1.010627</td>\n",
       "      <td>1.004873</td>\n",
       "      <td>0.0</td>\n",
       "      <td>1.0090</td>\n",
       "      <td>1.0035</td>\n",
       "    </tr>\n",
       "    <tr>\n",
       "      <th>108</th>\n",
       "      <td>1971-06-03</td>\n",
       "      <td>1.0185</td>\n",
       "      <td>-0.000315</td>\n",
       "      <td>0.000724</td>\n",
       "      <td>0.503256</td>\n",
       "      <td>14.023445</td>\n",
       "      <td>94.449092</td>\n",
       "      <td>True</td>\n",
       "      <td>0.009856</td>\n",
       "      <td>0.000781</td>\n",
       "      <td>0.001506</td>\n",
       "      <td>1.014799</td>\n",
       "      <td>1.004831</td>\n",
       "      <td>1.0</td>\n",
       "      <td>1.0185</td>\n",
       "      <td>1.0069</td>\n",
       "    </tr>\n",
       "    <tr>\n",
       "      <th>108</th>\n",
       "      <td>1971-06-03</td>\n",
       "      <td>1.0185</td>\n",
       "      <td>-0.000315</td>\n",
       "      <td>0.000724</td>\n",
       "      <td>0.503256</td>\n",
       "      <td>14.023445</td>\n",
       "      <td>94.449092</td>\n",
       "      <td>True</td>\n",
       "      <td>0.009856</td>\n",
       "      <td>0.000781</td>\n",
       "      <td>0.001506</td>\n",
       "      <td>1.014799</td>\n",
       "      <td>1.004831</td>\n",
       "      <td>1.0</td>\n",
       "      <td>1.0185</td>\n",
       "      <td>1.0069</td>\n",
       "    </tr>\n",
       "    <tr>\n",
       "      <th>114</th>\n",
       "      <td>1971-06-11</td>\n",
       "      <td>1.0239</td>\n",
       "      <td>-0.003915</td>\n",
       "      <td>0.002195</td>\n",
       "      <td>0.000000</td>\n",
       "      <td>29.323051</td>\n",
       "      <td>87.076425</td>\n",
       "      <td>False</td>\n",
       "      <td>0.030093</td>\n",
       "      <td>0.001244</td>\n",
       "      <td>0.003439</td>\n",
       "      <td>1.023543</td>\n",
       "      <td>1.002887</td>\n",
       "      <td>1.0</td>\n",
       "      <td>1.0239</td>\n",
       "      <td>1.0086</td>\n",
       "    </tr>\n",
       "    <tr>\n",
       "      <th>114</th>\n",
       "      <td>1971-06-11</td>\n",
       "      <td>1.0239</td>\n",
       "      <td>-0.003915</td>\n",
       "      <td>0.002195</td>\n",
       "      <td>0.000000</td>\n",
       "      <td>29.323051</td>\n",
       "      <td>87.076425</td>\n",
       "      <td>False</td>\n",
       "      <td>0.030093</td>\n",
       "      <td>0.001244</td>\n",
       "      <td>0.003439</td>\n",
       "      <td>1.023543</td>\n",
       "      <td>1.002887</td>\n",
       "      <td>1.0</td>\n",
       "      <td>1.0239</td>\n",
       "      <td>1.0086</td>\n",
       "    </tr>\n",
       "    <tr>\n",
       "      <th>121</th>\n",
       "      <td>1971-06-22</td>\n",
       "      <td>1.0243</td>\n",
       "      <td>-0.002300</td>\n",
       "      <td>0.003562</td>\n",
       "      <td>0.009764</td>\n",
       "      <td>37.840999</td>\n",
       "      <td>70.943293</td>\n",
       "      <td>True</td>\n",
       "      <td>0.051358</td>\n",
       "      <td>0.000292</td>\n",
       "      <td>0.003854</td>\n",
       "      <td>1.030199</td>\n",
       "      <td>1.006601</td>\n",
       "      <td>0.0</td>\n",
       "      <td>1.0248</td>\n",
       "      <td>1.0086</td>\n",
       "    </tr>\n",
       "    <tr>\n",
       "      <th>147</th>\n",
       "      <td>1971-07-28</td>\n",
       "      <td>1.0221</td>\n",
       "      <td>0.001565</td>\n",
       "      <td>0.000130</td>\n",
       "      <td>0.156786</td>\n",
       "      <td>17.980281</td>\n",
       "      <td>58.422422</td>\n",
       "      <td>True</td>\n",
       "      <td>0.001840</td>\n",
       "      <td>-0.000442</td>\n",
       "      <td>-0.000312</td>\n",
       "      <td>1.026203</td>\n",
       "      <td>1.016867</td>\n",
       "      <td>0.0</td>\n",
       "      <td>1.0233</td>\n",
       "      <td>1.0151</td>\n",
       "    </tr>\n",
       "    <tr>\n",
       "      <th>147</th>\n",
       "      <td>1971-07-28</td>\n",
       "      <td>1.0221</td>\n",
       "      <td>0.001565</td>\n",
       "      <td>0.000130</td>\n",
       "      <td>0.156786</td>\n",
       "      <td>17.980281</td>\n",
       "      <td>58.422422</td>\n",
       "      <td>True</td>\n",
       "      <td>0.001840</td>\n",
       "      <td>-0.000442</td>\n",
       "      <td>-0.000312</td>\n",
       "      <td>1.026203</td>\n",
       "      <td>1.016867</td>\n",
       "      <td>0.0</td>\n",
       "      <td>1.0233</td>\n",
       "      <td>1.0151</td>\n",
       "    </tr>\n",
       "    <tr>\n",
       "      <th>154</th>\n",
       "      <td>1971-08-06</td>\n",
       "      <td>1.0186</td>\n",
       "      <td>-0.002610</td>\n",
       "      <td>-0.000406</td>\n",
       "      <td>0.177026</td>\n",
       "      <td>9.278005</td>\n",
       "      <td>45.678142</td>\n",
       "      <td>True</td>\n",
       "      <td>-0.007209</td>\n",
       "      <td>-0.000299</td>\n",
       "      <td>-0.000704</td>\n",
       "      <td>1.024830</td>\n",
       "      <td>1.015390</td>\n",
       "      <td>0.0</td>\n",
       "      <td>1.0231</td>\n",
       "      <td>1.0151</td>\n",
       "    </tr>\n",
       "    <tr>\n",
       "      <th>157</th>\n",
       "      <td>1971-08-11</td>\n",
       "      <td>1.0143</td>\n",
       "      <td>0.002180</td>\n",
       "      <td>-0.001116</td>\n",
       "      <td>0.148104</td>\n",
       "      <td>0.988931</td>\n",
       "      <td>44.168184</td>\n",
       "      <td>True</td>\n",
       "      <td>-0.016636</td>\n",
       "      <td>-0.000825</td>\n",
       "      <td>-0.001940</td>\n",
       "      <td>1.026180</td>\n",
       "      <td>1.010460</td>\n",
       "      <td>0.0</td>\n",
       "      <td>1.0228</td>\n",
       "      <td>1.0063</td>\n",
       "    </tr>\n",
       "  </tbody>\n",
       "</table>\n",
       "</div>"
      ],
      "text/plain": [
       "           DATE   VALUE       dpo  macd_signal    return        tsi  \\\n",
       "37   1971-02-24  1.0075  0.000550    -0.001529  0.398605 -13.994300   \n",
       "108  1971-06-03  1.0185 -0.000315     0.000724  0.503256  14.023445   \n",
       "108  1971-06-03  1.0185 -0.000315     0.000724  0.503256  14.023445   \n",
       "114  1971-06-11  1.0239 -0.003915     0.002195  0.000000  29.323051   \n",
       "114  1971-06-11  1.0239 -0.003915     0.002195  0.000000  29.323051   \n",
       "121  1971-06-22  1.0243 -0.002300     0.003562  0.009764  37.840999   \n",
       "147  1971-07-28  1.0221  0.001565     0.000130  0.156786  17.980281   \n",
       "147  1971-07-28  1.0221  0.001565     0.000130  0.156786  17.980281   \n",
       "154  1971-08-06  1.0186 -0.002610    -0.000406  0.177026   9.278005   \n",
       "157  1971-08-11  1.0143  0.002180    -0.001116  0.148104   0.988931   \n",
       "\n",
       "           rsi  gained      trix  macd_diff      macd     hband     lband  \\\n",
       "37   52.751027    True -0.016201  -0.000044 -0.001572  1.010627  1.004873   \n",
       "108  94.449092    True  0.009856   0.000781  0.001506  1.014799  1.004831   \n",
       "108  94.449092    True  0.009856   0.000781  0.001506  1.014799  1.004831   \n",
       "114  87.076425   False  0.030093   0.001244  0.003439  1.023543  1.002887   \n",
       "114  87.076425   False  0.030093   0.001244  0.003439  1.023543  1.002887   \n",
       "121  70.943293    True  0.051358   0.000292  0.003854  1.030199  1.006601   \n",
       "147  58.422422    True  0.001840  -0.000442 -0.000312  1.026203  1.016867   \n",
       "147  58.422422    True  0.001840  -0.000442 -0.000312  1.026203  1.016867   \n",
       "154  45.678142    True -0.007209  -0.000299 -0.000704  1.024830  1.015390   \n",
       "157  44.168184    True -0.016636  -0.000825 -0.001940  1.026180  1.010460   \n",
       "\n",
       "     donchain  hdonchain  ldonchain  \n",
       "37        0.0     1.0090     1.0035  \n",
       "108       1.0     1.0185     1.0069  \n",
       "108       1.0     1.0185     1.0069  \n",
       "114       1.0     1.0239     1.0086  \n",
       "114       1.0     1.0239     1.0086  \n",
       "121       0.0     1.0248     1.0086  \n",
       "147       0.0     1.0233     1.0151  \n",
       "147       0.0     1.0233     1.0151  \n",
       "154       0.0     1.0231     1.0151  \n",
       "157       0.0     1.0228     1.0063  "
      ]
     },
     "execution_count": 280,
     "metadata": {},
     "output_type": "execute_result"
    }
   ],
   "source": [
    "# Positions of sells\n",
    "usCa.loc[exits][:10]"
   ]
  },
  {
   "cell_type": "code",
   "execution_count": 281,
   "metadata": {},
   "outputs": [
    {
     "data": {
      "text/plain": [
       "[0.0040000000000000036,\n",
       " 0.008399999999999963,\n",
       " 0.005099999999999882,\n",
       " 0.007800000000000029,\n",
       " 0.005300000000000082,\n",
       " 0.0018000000000000238,\n",
       " 0.007000000000000117,\n",
       " 0.0044999999999999485,\n",
       " 0.0018000000000000238,\n",
       " 0.008000000000000007]"
      ]
     },
     "execution_count": 281,
     "metadata": {},
     "output_type": "execute_result"
    }
   ],
   "source": [
    "gains = list(map(lambda pos : usCa['VALUE'][pos[1]+offset]-usCa['VALUE'][pos[0]+offset], positions))\n",
    "gains[:10]"
   ]
  },
  {
   "cell_type": "code",
   "execution_count": 285,
   "metadata": {},
   "outputs": [
    {
     "data": {
      "text/plain": [
       "count    3101.000000\n",
       "mean        0.009970\n",
       "std         0.010509\n",
       "min         0.001700\n",
       "25%         0.004000\n",
       "50%         0.006800\n",
       "75%         0.012300\n",
       "max         0.154800\n",
       "dtype: float64"
      ]
     },
     "execution_count": 285,
     "metadata": {},
     "output_type": "execute_result"
    }
   ],
   "source": [
    "pd.Series(gains).describe()"
   ]
  },
  {
   "cell_type": "code",
   "execution_count": 288,
   "metadata": {},
   "outputs": [
    {
     "data": {
      "text/plain": [
       "[<matplotlib.lines.Line2D at 0x11958eb38>]"
      ]
     },
     "execution_count": 288,
     "metadata": {},
     "output_type": "execute_result"
    },
    {
     "data": {
      "image/png": "[encoded data removed]",
      "text/plain": [
       "<Figure size 1080x720 with 1 Axes>"
      ]
     },
     "metadata": {
      "needs_background": "light"
     },
     "output_type": "display_data"
    }
   ],
   "source": [
    "plt.plot(gains)"
   ]
  },
  {
   "cell_type": "code",
   "execution_count": 275,
   "metadata": {},
   "outputs": [
    {
     "name": "stdout",
     "output_type": "stream",
     "text": [
      "Sum of percentage gains : 30.91589999999997\n",
      "Compounded gains :  19477772953236.383\n"
     ]
    }
   ],
   "source": [
    "print('Sum of percentage gains :', sum(gains))\n",
    "print('Compounded gains : ', np.prod(np.add(gains, 1.0)))"
   ]
  }
 ],
 "metadata": {
  "kernelspec": {
   "display_name": "Python 3",
   "language": "python",
   "name": "python3"
  },
  "language_info": {
   "codemirror_mode": {
    "name": "ipython",
    "version": 3
   },
   "file_extension": ".py",
   "mimetype": "text/x-python",
   "name": "python",
   "nbconvert_exporter": "python",
   "pygments_lexer": "ipython3",
   "version": "3.6.6"
  }
 },
 "nbformat": 4,
 "nbformat_minor": 2
}
