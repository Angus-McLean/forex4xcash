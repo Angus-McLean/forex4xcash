{
 "cells": [
  {
   "cell_type": "code",
   "execution_count": null,
   "metadata": {},
   "outputs": [],
   "source": [
    "import numpy as np # linear algebra\n",
    "import pandas as pd # data processing, CSV file I/O (e.g. pd.read_csv)\n",
    "import matplotlib.pyplot as plt\n",
    "import seaborn as sns  # visualization tool"
   ]
  },
  {
   "cell_type": "code",
   "execution_count": null,
   "metadata": {},
   "outputs": [],
   "source": [
    "data = pd.read_csv('data/iwm.csv')"
   ]
  },
  {
   "cell_type": "markdown",
   "metadata": {},
   "source": [
    "# Wallet"
   ]
  },
  {
   "cell_type": "markdown",
   "metadata": {},
   "source": [
    "# Analysis"
   ]
  },
  {
   "cell_type": "code",
   "execution_count": null,
   "metadata": {},
   "outputs": [],
   "source": [
    "data.Open.plot()"
   ]
  },
  {
   "cell_type": "code",
   "execution_count": null,
   "metadata": {},
   "outputs": [],
   "source": [
    "from scipy.stats import linregress"
   ]
  },
  {
   "cell_type": "code",
   "execution_count": null,
   "metadata": {},
   "outputs": [],
   "source": [
    "a = [1,2,3,10]\n",
    "b = [9,10,30,40]\n",
    "linregress(a,b).slope"
   ]
  },
  {
   "cell_type": "code",
   "execution_count": null,
   "metadata": {},
   "outputs": [],
   "source": [
    "data['dayNum'] = [i for i in range(len(data))]\n",
    "data['mv_short'] = data['Open'].rolling(window=10).mean()\n",
    "data['mv_long'] = data['Open'].rolling(window=30).mean()\n",
    "data['sell'] = 0\n",
    "data['buy'] = 0\n",
    "data[:100]"
   ]
  },
  {
   "cell_type": "code",
   "execution_count": null,
   "metadata": {},
   "outputs": [],
   "source": [
    "data_1 = data.loc[:200,[\"Open\",\"mv_short\",\"mv_long\"]]\n",
    "data_1.plot()"
   ]
  },
  {
   "cell_type": "code",
   "execution_count": null,
   "metadata": {},
   "outputs": [],
   "source": [
    "# wallet\n",
    "total_cash = 2000\n",
    "total_stock = 0\n",
    "\n",
    "def buyStock(price, quant):\n",
    "    return (-1)*price*quant\n",
    "\n",
    "def sellStock(price, quant):\n",
    "    return price*quant\n",
    "\n",
    "# trade\n",
    "mv_short_prev = 0\n",
    "mv_long_prev = 0\n",
    "purchaseQuant = 1\n",
    "for i, row in data[:200].iterrows():\n",
    "    if (i > 1): \n",
    "        mv_short_prev = data['mv_short'][i-1]\n",
    "        mv_long_prev = data['mv_long'][i-1]\n",
    "    \n",
    "    #sell condition\n",
    "    if ((mv_short_prev > mv_long_prev) & (data['mv_short'][i] < data['mv_long'][i] ) & (total_stock > 0) ):\n",
    "        total_cash += sellStock(data['Open'][i], purchaseQuant)\n",
    "        total_stock -= 1\n",
    "        print \"sell\"\n",
    "    \n",
    "    #buy condition\n",
    "    if ((mv_short_prev < mv_long_prev) & (data['mv_short'][i] > data['mv_long'][i] ) ):\n",
    "        total_cash += buyStock(data['Open'][i], purchaseQuant)\n",
    "        total_stock += 1\n",
    "        print \"buy\"\n",
    "\n",
    "# print total_cash\n",
    "# print total_stock\n",
    "# print total_cash + total_stock*data['Open'][len(data['Open'])-1]"
   ]
  },
  {
   "cell_type": "code",
   "execution_count": null,
   "metadata": {},
   "outputs": [],
   "source": [
    "data.index_name"
   ]
  },
  {
   "cell_type": "markdown",
   "metadata": {},
   "source": [
    "# BUY & SELL"
   ]
  }
 ],
 "metadata": {
  "kernelspec": {
   "display_name": "Python 2",
   "language": "python",
   "name": "python2"
  },
  "language_info": {
   "codemirror_mode": {
    "name": "ipython",
    "version": 2
   },
   "file_extension": ".py",
   "mimetype": "text/x-python",
   "name": "python",
   "nbconvert_exporter": "python",
   "pygments_lexer": "ipython2",
   "version": "2.7.15"
  }
 },
 "nbformat": 4,
 "nbformat_minor": 2
}
