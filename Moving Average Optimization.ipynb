{
 "cells": [
  {
   "cell_type": "code",
   "execution_count": 27,
   "metadata": {},
   "outputs": [
    {
     "name": "stdout",
     "output_type": "stream",
     "text": [
      " Volume in drive C is Windows\n",
      " Volume Serial Number is 7A67-75B7\n",
      "\n",
      " Directory of C:\\Users\\User\\Desktop\\Haaris\\Trade Journal\\Research\\fxboys\n",
      "\n",
      "09/16/2018  12:15 AM    <DIR>          .\n",
      "09/16/2018  12:15 AM    <DIR>          ..\n",
      "09/15/2018  04:24 PM                39 .gitignore\n",
      "09/15/2018  09:20 PM    <DIR>          .ipynb_checkpoints\n",
      "09/15/2018  04:27 PM    <DIR>          data\n",
      "09/15/2018  11:18 PM            71,720 FOREX Attempt1.ipynb\n",
      "09/16/2018  12:15 AM            25,539 Moving Average Optimization.ipynb\n",
      "09/15/2018  04:24 PM                10 README.md\n",
      "               4 File(s)         97,308 bytes\n",
      "               4 Dir(s)  16,101,806,080 bytes free\n"
     ]
    }
   ],
   "source": [
    "!dir"
   ]
  },
  {
   "cell_type": "code",
   "execution_count": 28,
   "metadata": {},
   "outputs": [
    {
     "name": "stdout",
     "output_type": "stream",
     "text": [
      " Volume in drive C is Windows\n",
      " Volume Serial Number is 7A67-75B7\n",
      "\n",
      " Directory of C:\\Users\\User\\Desktop\\Haaris\\Trade Journal\\Research\\fxboys\\data\n",
      "\n",
      "09/15/2018  04:27 PM    <DIR>          .\n",
      "09/15/2018  04:27 PM    <DIR>          ..\n",
      "09/15/2018  04:27 PM           116,197 DEXBZUS.csv\n",
      "09/15/2018  04:27 PM           233,952 DEXCAUS.csv\n",
      "09/15/2018  04:27 PM           184,596 DEXCHUS.csv\n",
      "09/15/2018  04:27 PM           234,285 DEXDNUS.csv\n",
      "09/15/2018  04:27 PM           184,896 DEXHKUS.csv\n",
      "09/15/2018  04:27 PM           232,957 DEXINUS.csv\n",
      "09/15/2018  04:27 PM           232,378 DEXJPUS.csv\n",
      "09/15/2018  04:27 PM           187,964 DEXKOUS.csv\n",
      "09/15/2018  04:27 PM           233,812 DEXMAUS.csv\n",
      "09/15/2018  04:27 PM           125,895 DEXMXUS.csv\n",
      "09/15/2018  04:27 PM           233,917 DEXNOUS.csv\n",
      "09/15/2018  04:27 PM           234,242 DEXSDUS.csv\n",
      "09/15/2018  04:27 PM           193,276 DEXSFUS.csv\n",
      "09/15/2018  04:27 PM           184,891 DEXSIUS.csv\n",
      "09/15/2018  04:27 PM           235,669 DEXSLUS.csv\n",
      "09/15/2018  04:27 PM           233,922 DEXSZUS.csv\n",
      "09/15/2018  04:27 PM           178,414 DEXTAUS.csv\n",
      "09/15/2018  04:27 PM           193,874 DEXTHUS.csv\n",
      "09/15/2018  04:27 PM           233,887 DEXUSAL.csv\n",
      "09/15/2018  04:27 PM            96,547 DEXUSEU.csv\n",
      "09/15/2018  04:27 PM           233,842 DEXUSNZ.csv\n",
      "09/15/2018  04:27 PM           233,922 DEXUSUK.csv\n",
      "09/15/2018  04:27 PM           116,756 DEXVZUS.csv\n",
      "09/15/2018  04:27 PM           127,351 DTWEXB.csv\n",
      "09/15/2018  04:27 PM           239,333 DTWEXM.csv\n",
      "09/15/2018  04:27 PM           128,079 DTWEXO.csv\n",
      "              26 File(s)      5,064,854 bytes\n",
      "               2 Dir(s)  16,101,806,080 bytes free\n"
     ]
    }
   ],
   "source": [
    "!dir data"
   ]
  },
  {
   "cell_type": "code",
   "execution_count": 29,
   "metadata": {},
   "outputs": [],
   "source": [
    "baseDir = 'data/'"
   ]
  },
  {
   "cell_type": "code",
   "execution_count": 30,
   "metadata": {},
   "outputs": [],
   "source": [
    "%matplotlib inline"
   ]
  },
  {
   "cell_type": "code",
   "execution_count": 31,
   "metadata": {},
   "outputs": [],
   "source": [
    "import pandas as pd\n",
    "import numpy as np\n",
    "import matplotlib.pyplot as plt"
   ]
  },
  {
   "cell_type": "code",
   "execution_count": 32,
   "metadata": {},
   "outputs": [],
   "source": [
    "def readDEX(filepath):\n",
    "    rawData = pd.read_csv(filepath).replace('.', np.nan).fillna(method='ffill')\n",
    "    # TODO : Parse dates\n",
    "    rawData.VALUE = rawData.VALUE.astype(float)\n",
    "    return rawData"
   ]
  },
  {
   "cell_type": "code",
   "execution_count": 33,
   "metadata": {},
   "outputs": [],
   "source": [
    "# Read csv, remove invalid data\n",
    "usdcad = readDEX(baseDir + 'DEXCAUS.csv')\n",
    "nzdusd = readDEX(baseDir + 'DEXUSNZ.csv')\n"
   ]
  },
  {
   "cell_type": "code",
   "execution_count": 34,
   "metadata": {},
   "outputs": [],
   "source": [
    "def MAstrat(myVar,ShortMA,LongMA):\n",
    "    XR = readDEX(baseDir + 'DEX' + myVar + '.csv')\n",
    "    XR['ShortMA'] = XR.VALUE.rolling(window=ShortMA).mean()\n",
    "    XR['LongMA'] = XR.VALUE.rolling(window=LongMA).mean()\n",
    "    \n",
    "    XR['Differential'] = XR['ShortMA'] - XR['LongMA']\n",
    "    \n",
    "    X = 0\n",
    "    XR['Stance'] = np.where(XR['Differential'] > X, 1, 0)\n",
    "    XR['Stance'] = np.where(XR['Differential'] < X, 1, 0)\n",
    "    XR['Stance'].value_counts()\n",
    "    \n",
    "    XR['Returns'] = XR.VALUE.pct_change()[1:]\n",
    "    XR['Strategy'] = XR['Returns'] * XR['Stance'].shift(1)\n",
    "    \n",
    "    return (XR['Strategy'].cumsum()[12434])"
   ]
  },
  {
   "cell_type": "code",
   "execution_count": 35,
   "metadata": {},
   "outputs": [],
   "source": [
    "ShortMA = np.linspace(10,100,19,dtype=int)\n",
    "LongMA = np.linspace(110,200,19,dtype=int)\n",
    "\n",
    "results_pnl = np.zeros((len(ShortMA),len(LongMA)))"
   ]
  },
  {
   "cell_type": "code",
   "execution_count": 36,
   "metadata": {},
   "outputs": [
    {
     "data": {
      "image/png": "[encoded data removed]",
      "text/plain": [
       "<Figure size 432x288 with 2 Axes>"
      ]
     },
     "metadata": {},
     "output_type": "display_data"
    }
   ],
   "source": [
    "for i, sma in enumerate(ShortMA):\n",
    "    for j, lma in enumerate(LongMA):\n",
    "        pnl = MAstrat('CAUS',sma,lma)\n",
    "        results_pnl[i,j] = pnl\n",
    "\n",
    "plt.title(\"USD/CAD Momentum Strategy Heat Map\")\n",
    "plt.ylabel(\"Long-Term Moving Average\")\n",
    "plt.xlabel(\"Short-Term Moving Average\")\n",
    "plt.pcolor(ShortMA,LongMA,results_pnl)\n",
    "plt.colorbar()\n",
    "plt.show()"
   ]
  },
  {
   "cell_type": "code",
   "execution_count": null,
   "metadata": {},
   "outputs": [],
   "source": []
  }
 ],
 "metadata": {
  "kernelspec": {
   "display_name": "Python 3",
   "language": "python",
   "name": "python3"
  },
  "language_info": {
   "codemirror_mode": {
    "name": "ipython",
    "version": 3
   },
   "file_extension": ".py",
   "mimetype": "text/x-python",
   "name": "python",
   "nbconvert_exporter": "python",
   "pygments_lexer": "ipython3",
   "version": "3.6.5"
  }
 },
 "nbformat": 4,
 "nbformat_minor": 2
}
